{
 "cells": [
  {
   "cell_type": "code",
   "execution_count": 1,
   "metadata": {},
   "outputs": [],
   "source": [
    "## Set Python - Spark environment.\n",
    "import os\n",
    "import sys\n",
    "os.environ[\"SPARK_HOME\"] = \"/usr/hdp/current/spark2-client\"\n",
    "os.environ[\"PYLIB\"] = os.environ[\"SPARK_HOME\"] + \"/python/lib\"\n",
    "sys.path.insert(0, os.environ[\"PYLIB\"] + \"/py4j-0.10.4-src.zip\")\n",
    "sys.path.insert(0, os.environ[\"PYLIB\"] + \"/pyspark.zip\")\n",
    "\n",
    "## Create SparkContext, SparkSession\n",
    "import pyspark\n",
    "from pyspark.conf import SparkConf\n",
    "from pyspark import SparkContext\n",
    "from pyspark.sql import SparkSession\n",
    "\n",
    "conf = SparkConf().setAppName(\"Python_Spark_PHD_Complete\").setMaster('local')\n",
    "sc = SparkContext(conf=conf)\n",
    "spark = SparkSession(sc)"
   ]
  },
  {
   "cell_type": "code",
   "execution_count": 2,
   "metadata": {},
   "outputs": [],
   "source": [
    "import pandas as pd\n",
    "import numpy as np\n",
    "import matplotlib.pyplot as plt"
   ]
  },
  {
   "cell_type": "code",
   "execution_count": 3,
   "metadata": {},
   "outputs": [],
   "source": [
    "'''from pyspark.sql.types import *\n",
    "## Define Schema\n",
    "DataSchema = StructType([\n",
    "         StructField(\"date\", DateType(), True),\n",
    "         StructField(\"Appliances\", DoubleType(), True),\n",
    "         StructField(\"lights\", DoubleType(), True),\n",
    "         StructField(\"T1\", DoubleType(), True),\n",
    "         StructField(\"RH_1\", DoubleType(), True),\n",
    "         StructField(\"T2\", DoubleType(), True),\n",
    "         StructField(\"RH_2\", DoubleType(), True),\n",
    "         StructField(\"T3\", DoubleType(), True),        \n",
    "         StructField(\"RH_3\", DoubleType(), True),\n",
    "         StructField(\"T4\", DoubleType(), True),\n",
    "         StructField(\"RH_4\", DoubleType(), True),\n",
    "         StructField(\"T5\", DoubleType(), True),\n",
    "         StructField(\"RH_5\", DoubleType(), True),\n",
    "         StructField(\"T6\", DoubleType(), True),\n",
    "         StructField(\"RH_6\", DoubleType(), True),\n",
    "         StructField(\"T7\", DoubleType(), True),\n",
    "         StructField(\"RH_7\", DoubleType(), True),\n",
    "         StructField(\"T8\", DoubleType(), True),\n",
    "         StructField(\"RH_8\", DoubleType(), True),\n",
    "         StructField(\"T9\", DoubleType(), True),\n",
    "         StructField(\"RH_9\", DoubleType(), True),\n",
    "         StructField(\"TO\", DoubleType(), True),\n",
    "         StructField(\"Press_mm_hg\", DoubleType(), True),\n",
    "         StructField(\"RH_out\", DoubleType(), True),\n",
    "         StructField(\"Wind speed\", DoubleType(), True),\n",
    "         StructField(\"Visibility\", DoubleType(), True),\n",
    "         StructField(\"Tdewpoint\", DoubleType(), True),\n",
    "         StructField(\"rv1\", DoubleType(), True),\n",
    "         StructField(\"rv2\", DoubleType(), True),\n",
    "         StructField(\"nsm\", DoubleType(), True),\n",
    "         StructField(\"weekstatus\", StringType(), True),\n",
    "         StructField(\"Day_of_week\", StringType(), True)])'''"
   ]
  },
  {
   "cell_type": "code",
   "execution_count": 137,
   "metadata": {},
   "outputs": [],
   "source": [
    "## Read data and create a dataframe\n",
    "playstor_data= spark.read.format(\"csv\")\\\n",
    "       .option(\"header\", \"true\")\\\n",
    "       .option(\"inferSchema\", \"true\")\\\n",
    "       .option(\"delimiter\", \"+\")\\\n",
    "       .option(\"delimiter\", \"\\t\")\\\n",
    "       .load(\"/user/2383B49/PHD/data/FlumeData.*\")\n",
    "playstor_data1=spark.read.parquet(\"/user/2383B49/PHD_Bigdata2/results/output/*.parquet\")\n"
   ]
  },
  {
   "cell_type": "code",
   "execution_count": 138,
   "metadata": {
    "scrolled": true
   },
   "outputs": [
    {
     "name": "stdout",
     "output_type": "stream",
     "text": [
      "root\n",
      " |-- App: string (nullable = true)\n",
      " |-- Category: string (nullable = true)\n",
      " |-- Rating: double (nullable = true)\n",
      " |-- Reviews: string (nullable = true)\n",
      " |-- Size: string (nullable = true)\n",
      " |-- Installs: string (nullable = true)\n",
      " |-- Type: string (nullable = true)\n",
      " |-- Price: string (nullable = true)\n",
      " |-- Content Rating: string (nullable = true)\n",
      " |-- Genres: string (nullable = true)\n",
      " |-- Last Updated: string (nullable = true)\n",
      " |-- Current Ver: string (nullable = true)\n",
      " |-- Android Ver: string (nullable = true)\n",
      "\n"
     ]
    }
   ],
   "source": [
    "playstor_data.printSchema()"
   ]
  },
  {
   "cell_type": "code",
   "execution_count": 139,
   "metadata": {},
   "outputs": [
    {
     "name": "stdout",
     "output_type": "stream",
     "text": [
      "root\n",
      " |-- App: string (nullable = true)\n",
      " |-- Category: string (nullable = true)\n",
      " |-- Rating: string (nullable = true)\n",
      " |-- Reviews: string (nullable = true)\n",
      " |-- Size: string (nullable = true)\n",
      " |-- Installs: string (nullable = true)\n",
      " |-- Type: string (nullable = true)\n",
      " |-- Price: string (nullable = true)\n",
      " |-- ContentRating: string (nullable = true)\n",
      " |-- Genres: string (nullable = true)\n",
      " |-- LastUpdated: string (nullable = true)\n",
      " |-- CurrentVer: string (nullable = true)\n",
      " |-- AndroidVer: string (nullable = true)\n",
      " |-- timestamp: timestamp (nullable = true)\n",
      "\n"
     ]
    }
   ],
   "source": [
    "playstor_data1.printSchema()"
   ]
  },
  {
   "cell_type": "markdown",
   "metadata": {},
   "source": [
    "4.Check the number of rows and columns in the dataframe created in steps 2 and 3."
   ]
  },
  {
   "cell_type": "code",
   "execution_count": 140,
   "metadata": {},
   "outputs": [
    {
     "name": "stdout",
     "output_type": "stream",
     "text": [
      "Total Playstore records count is 5421\n",
      "Total Playstore Columns count is 13\n",
      "\n",
      "\n",
      " Playstore Columns are: ['App', 'Category', 'Rating', 'Reviews', 'Size', 'Installs', 'Type', 'Price', 'Content Rating', 'Genres', 'Last Updated', 'Current Ver', 'Android Ver'] \n",
      "\n",
      "Total Playstore1 records count is 5420\n",
      "Total Playstore1 Columns count is 14\n",
      "\n",
      "\n",
      " Playstore1 Columns are: ['App', 'Category', 'Rating', 'Reviews', 'Size', 'Installs', 'Type', 'Price', 'ContentRating', 'Genres', 'LastUpdated', 'CurrentVer', 'AndroidVer', 'timestamp'] \n",
      "\n"
     ]
    }
   ],
   "source": [
    "## To Count the number of rows in DataFrame\n",
    "print('Total Playstore records count is {}'.format(playstor_data.count()))\n",
    "## Columns count and column names\n",
    "print(\"Total Playstore Columns count is {}\".format(len(playstor_data.columns)))\n",
    "print(\"\\n\\n Playstore Columns are: {} \\n\".format(playstor_data.columns))\n",
    "\n",
    "## To Count the number of rows in DataFrame\n",
    "print('Total Playstore1 records count is {}'.format(playstor_data1.count()))\n",
    "## Columns count and column names\n",
    "print(\"Total Playstore1 Columns count is {}\".format(len(playstor_data1.columns)))\n",
    "print(\"\\n\\n Playstore1 Columns are: {} \\n\".format(playstor_data1.columns))\n"
   ]
  },
  {
   "cell_type": "code",
   "execution_count": 147,
   "metadata": {
    "scrolled": true
   },
   "outputs": [
    {
     "name": "stdout",
     "output_type": "stream",
     "text": [
      "+--------------------+--------+------+-------+----+----------+----+-----+--------------+------+------------+-----------+------------+\n",
      "|                 App|Category|Rating|Reviews|Size|  Installs|Type|Price|Content Rating|Genres|Last Updated|Current Ver| Android Ver|\n",
      "+--------------------+--------+------+-------+----+----------+----+-----+--------------+------+------------+-----------+------------+\n",
      "|Tennis Champion 3...|  SPORTS|   4.0| 170973| 43M|5,000,000+|Free|    0|      Everyone|Sports|June 6, 2018|        2.1|  4.1 and up|\n",
      "|Carnivores: Dinos...|    GAME|   4.2|  62636| 17M|1,000,000+|Free|    0|          Teen|Action|July 2, 2018|      1.8.0|4.0.3 and up|\n",
      "+--------------------+--------+------+-------+----+----------+----+-----+--------------+------+------------+-----------+------------+\n",
      "only showing top 2 rows\n",
      "\n"
     ]
    }
   ],
   "source": [
    "playstor_data.show(2)"
   ]
  },
  {
   "cell_type": "code",
   "execution_count": 155,
   "metadata": {},
   "outputs": [
    {
     "name": "stdout",
     "output_type": "stream",
     "text": [
      "+--------------------+--------------+------+-------+----+--------+----+-----+-------------+--------------------+----------------+----------+------------+\n",
      "|                 App|      Category|Rating|Reviews|Size|Installs|Type|Price|ContentRating|              Genres|     LastUpdated|CurrentVer|  AndroidVer|\n",
      "+--------------------+--------------+------+-------+----+--------+----+-----+-------------+--------------------+----------------+----------+------------+\n",
      "|Photo Editor & Ca...|ART_AND_DESIGN|   4.1|    159| 19M| 10,000+|Free|    0|     Everyone|        Art & Design| January 7, 2018|     1.0.0|4.0.3 and up|\n",
      "| Coloring book moana|ART_AND_DESIGN|   3.9|    967| 14M|500,000+|Free|    0|     Everyone|Art & Design;Pret...|January 15, 2018|     2.0.0|4.0.3 and up|\n",
      "+--------------------+--------------+------+-------+----+--------+----+-----+-------------+--------------------+----------------+----------+------------+\n",
      "only showing top 2 rows\n",
      "\n"
     ]
    }
   ],
   "source": [
    "playstor_data1.show(2)"
   ]
  },
  {
   "cell_type": "code",
   "execution_count": 149,
   "metadata": {},
   "outputs": [],
   "source": [
    "#Drop timestamp column from Playstor1 data\n",
    "playstor_data1=playstor_data1.drop(\"timestamp\")"
   ]
  },
  {
   "cell_type": "code",
   "execution_count": 150,
   "metadata": {},
   "outputs": [
    {
     "name": "stdout",
     "output_type": "stream",
     "text": [
      "Total Playstore records count is 5421\n",
      "Total Playstore Columns count is 13\n",
      "\n",
      "\n",
      " Playstore Columns are: ['App', 'Category', 'Rating', 'Reviews', 'Size', 'Installs', 'Type', 'Price', 'Content Rating', 'Genres', 'Last Updated', 'Current Ver', 'Android Ver'] \n",
      "\n",
      "Total Playstore1 records count is 5420\n",
      "Total Playstore1 Columns count is 13\n",
      "\n",
      "\n",
      " Playstore1 Columns are: ['App', 'Category', 'Rating', 'Reviews', 'Size', 'Installs', 'Type', 'Price', 'ContentRating', 'Genres', 'LastUpdated', 'CurrentVer', 'AndroidVer'] \n",
      "\n"
     ]
    }
   ],
   "source": [
    "## To Count the number of rows in DataFrame\n",
    "print('Total Playstore records count is {}'.format(playstor_data.count()))\n",
    "## Columns count and column names\n",
    "print(\"Total Playstore Columns count is {}\".format(len(playstor_data.columns)))\n",
    "print(\"\\n\\n Playstore Columns are: {} \\n\".format(playstor_data.columns))\n",
    "\n",
    "## To Count the number of rows in DataFrame\n",
    "print('Total Playstore1 records count is {}'.format(playstor_data1.count()))\n",
    "## Columns count and column names\n",
    "print(\"Total Playstore1 Columns count is {}\".format(len(playstor_data1.columns)))\n",
    "print(\"\\n\\n Playstore1 Columns are: {} \\n\".format(playstor_data1.columns))\n"
   ]
  },
  {
   "cell_type": "markdown",
   "metadata": {},
   "source": [
    "5.Combine the 2 dataframes in to a single dataframe."
   ]
  },
  {
   "cell_type": "code",
   "execution_count": 335,
   "metadata": {},
   "outputs": [],
   "source": [
    "#joining the above three product, customer, order dataframes\n",
    "Playstore_data = playstor_data.unionAll(playstor_data1) "
   ]
  },
  {
   "cell_type": "markdown",
   "metadata": {},
   "source": [
    "6.Print number of rows and columns of the merged dataframe."
   ]
  },
  {
   "cell_type": "code",
   "execution_count": 336,
   "metadata": {},
   "outputs": [
    {
     "name": "stdout",
     "output_type": "stream",
     "text": [
      "Total Playstore records count is 10841\n",
      "Total Playstore Columns count is 13\n",
      "\n",
      "\n",
      " Playstore Columns are: ['App', 'Category', 'Rating', 'Reviews', 'Size', 'Installs', 'Type', 'Price', 'Content Rating', 'Genres', 'Last Updated', 'Current Ver', 'Android Ver'] \n",
      "\n"
     ]
    }
   ],
   "source": [
    "## To Count the number of rows in DataFrame\n",
    "print('Total Playstore records count is {}'.format(Playstore_data.count()))\n",
    "## Columns count and column names\n",
    "print(\"Total Playstore Columns count is {}\".format(len(Playstore_data.columns)))\n",
    "print(\"\\n\\n Playstore Columns are: {} \\n\".format(Playstore_data.columns))\n"
   ]
  },
  {
   "cell_type": "markdown",
   "metadata": {},
   "source": [
    "7.Print the Summary for “Size, Installs, Price” columns. Print the datatypes for the columns."
   ]
  },
  {
   "cell_type": "code",
   "execution_count": 337,
   "metadata": {},
   "outputs": [
    {
     "name": "stdout",
     "output_type": "stream",
     "text": [
      "+------------------+--------+--------+\n",
      "|              Size|Installs|   Price|\n",
      "+------------------+--------+--------+\n",
      "|             10841|   10841|   10841|\n",
      "|              null|     0.0|     0.0|\n",
      "|              null|     NaN|     0.0|\n",
      "|            1,000+|       0|   $0.99|\n",
      "|Varies with device|    Free|Everyone|\n",
      "+------------------+--------+--------+\n",
      "\n"
     ]
    }
   ],
   "source": [
    "## Verify summary stats for few fields\n",
    "Playstore_data.describe().select('Size', 'Installs', 'Price').show()"
   ]
  },
  {
   "cell_type": "code",
   "execution_count": 338,
   "metadata": {},
   "outputs": [
    {
     "data": {
      "text/html": [
       "<div>\n",
       "<style>\n",
       "    .dataframe thead tr:only-child th {\n",
       "        text-align: right;\n",
       "    }\n",
       "\n",
       "    .dataframe thead th {\n",
       "        text-align: left;\n",
       "    }\n",
       "\n",
       "    .dataframe tbody tr th {\n",
       "        vertical-align: top;\n",
       "    }\n",
       "</style>\n",
       "<table border=\"1\" class=\"dataframe\">\n",
       "  <thead>\n",
       "    <tr style=\"text-align: right;\">\n",
       "      <th></th>\n",
       "      <th>App</th>\n",
       "      <th>Category</th>\n",
       "      <th>Rating</th>\n",
       "      <th>Reviews</th>\n",
       "      <th>Size</th>\n",
       "      <th>Installs</th>\n",
       "      <th>Type</th>\n",
       "      <th>Price</th>\n",
       "      <th>Content Rating</th>\n",
       "      <th>Genres</th>\n",
       "      <th>Last Updated</th>\n",
       "      <th>Current Ver</th>\n",
       "      <th>Android Ver</th>\n",
       "    </tr>\n",
       "  </thead>\n",
       "  <tbody>\n",
       "    <tr>\n",
       "      <th>0</th>\n",
       "      <td>Tennis Champion 3D - Online Sports Game</td>\n",
       "      <td>SPORTS</td>\n",
       "      <td>4.0</td>\n",
       "      <td>170973</td>\n",
       "      <td>43M</td>\n",
       "      <td>5,000,000+</td>\n",
       "      <td>Free</td>\n",
       "      <td>0</td>\n",
       "      <td>Everyone</td>\n",
       "      <td>Sports</td>\n",
       "      <td>June 6, 2018</td>\n",
       "      <td>2.1</td>\n",
       "      <td>4.1 and up</td>\n",
       "    </tr>\n",
       "    <tr>\n",
       "      <th>1</th>\n",
       "      <td>Carnivores: Dinosaur Hunter</td>\n",
       "      <td>GAME</td>\n",
       "      <td>4.2</td>\n",
       "      <td>62636</td>\n",
       "      <td>17M</td>\n",
       "      <td>1,000,000+</td>\n",
       "      <td>Free</td>\n",
       "      <td>0</td>\n",
       "      <td>Teen</td>\n",
       "      <td>Action</td>\n",
       "      <td>July 2, 2018</td>\n",
       "      <td>1.8.0</td>\n",
       "      <td>4.0.3 and up</td>\n",
       "    </tr>\n",
       "    <tr>\n",
       "      <th>2</th>\n",
       "      <td>High School Simulator 2017</td>\n",
       "      <td>FAMILY</td>\n",
       "      <td>4.2</td>\n",
       "      <td>123136</td>\n",
       "      <td>80M</td>\n",
       "      <td>5,000,000+</td>\n",
       "      <td>Free</td>\n",
       "      <td>0</td>\n",
       "      <td>Mature 17+</td>\n",
       "      <td>Simulation</td>\n",
       "      <td>June 25, 2018</td>\n",
       "      <td>1.0</td>\n",
       "      <td>4.0 and up</td>\n",
       "    </tr>\n",
       "    <tr>\n",
       "      <th>3</th>\n",
       "      <td>Hopeless Land: Fight for Survival</td>\n",
       "      <td>GAME</td>\n",
       "      <td>4.2</td>\n",
       "      <td>250197</td>\n",
       "      <td>44M</td>\n",
       "      <td>5,000,000+</td>\n",
       "      <td>Free</td>\n",
       "      <td>0</td>\n",
       "      <td>Teen</td>\n",
       "      <td>Action</td>\n",
       "      <td>July 12, 2018</td>\n",
       "      <td>1.0</td>\n",
       "      <td>4.1 and up</td>\n",
       "    </tr>\n",
       "    <tr>\n",
       "      <th>4</th>\n",
       "      <td>SofaScore Live Score</td>\n",
       "      <td>SPORTS</td>\n",
       "      <td>4.8</td>\n",
       "      <td>221722</td>\n",
       "      <td>Varies with device</td>\n",
       "      <td>10,000,000+</td>\n",
       "      <td>Free</td>\n",
       "      <td>0</td>\n",
       "      <td>Everyone</td>\n",
       "      <td>Sports</td>\n",
       "      <td>July 26, 2018</td>\n",
       "      <td>Varies with device</td>\n",
       "      <td>Varies with device</td>\n",
       "    </tr>\n",
       "  </tbody>\n",
       "</table>\n",
       "</div>"
      ],
      "text/plain": [
       "                                       App Category Rating Reviews  \\\n",
       "0  Tennis Champion 3D - Online Sports Game   SPORTS    4.0  170973   \n",
       "1              Carnivores: Dinosaur Hunter     GAME    4.2   62636   \n",
       "2               High School Simulator 2017   FAMILY    4.2  123136   \n",
       "3        Hopeless Land: Fight for Survival     GAME    4.2  250197   \n",
       "4                     SofaScore Live Score   SPORTS    4.8  221722   \n",
       "\n",
       "                 Size     Installs  Type Price Content Rating      Genres  \\\n",
       "0                 43M   5,000,000+  Free     0       Everyone      Sports   \n",
       "1                 17M   1,000,000+  Free     0           Teen      Action   \n",
       "2                 80M   5,000,000+  Free     0     Mature 17+  Simulation   \n",
       "3                 44M   5,000,000+  Free     0           Teen      Action   \n",
       "4  Varies with device  10,000,000+  Free     0       Everyone      Sports   \n",
       "\n",
       "    Last Updated         Current Ver         Android Ver  \n",
       "0   June 6, 2018                 2.1          4.1 and up  \n",
       "1   July 2, 2018               1.8.0        4.0.3 and up  \n",
       "2  June 25, 2018                 1.0          4.0 and up  \n",
       "3  July 12, 2018                 1.0          4.1 and up  \n",
       "4  July 26, 2018  Varies with device  Varies with device  "
      ]
     },
     "execution_count": 338,
     "metadata": {},
     "output_type": "execute_result"
    }
   ],
   "source": [
    "Playstore_data.toPandas().head()"
   ]
  },
  {
   "cell_type": "markdown",
   "metadata": {},
   "source": [
    "8.Print the distinct values for Size column"
   ]
  },
  {
   "cell_type": "code",
   "execution_count": 339,
   "metadata": {},
   "outputs": [
    {
     "data": {
      "text/plain": [
       "[Row(Size=462)]"
      ]
     },
     "execution_count": 339,
     "metadata": {},
     "output_type": "execute_result"
    }
   ],
   "source": [
    "from pyspark.sql.functions import col, countDistinct\n",
    "\n",
    "Playstore_data.agg(countDistinct(col('Size')).alias('Size')).collect()"
   ]
  },
  {
   "cell_type": "code",
   "execution_count": 340,
   "metadata": {},
   "outputs": [],
   "source": [
    "#Playstore_data.select('Size').distinct().collect()"
   ]
  },
  {
   "cell_type": "code",
   "execution_count": 341,
   "metadata": {
    "scrolled": true
   },
   "outputs": [
    {
     "name": "stdout",
     "output_type": "stream",
     "text": [
      "+------------------+---------+\n",
      "|              Size|itemCount|\n",
      "+------------------+---------+\n",
      "|Varies with device|     1695|\n",
      "|               11M|      198|\n",
      "|               12M|      196|\n",
      "|               14M|      194|\n",
      "|               13M|      191|\n",
      "|               15M|      184|\n",
      "|               17M|      160|\n",
      "|               19M|      154|\n",
      "|               26M|      149|\n",
      "|               16M|      149|\n",
      "|               25M|      143|\n",
      "|               20M|      139|\n",
      "|               21M|      138|\n",
      "|               24M|      136|\n",
      "|               10M|      136|\n",
      "|               18M|      133|\n",
      "|               23M|      117|\n",
      "|               22M|      114|\n",
      "|               29M|      103|\n",
      "|               27M|       97|\n",
      "+------------------+---------+\n",
      "only showing top 20 rows\n",
      "\n"
     ]
    }
   ],
   "source": [
    "dfWithCount = Playstore_data.groupBy(\"Size\").agg(count(\"Size\").alias(\"itemCount\")).sort(desc('itemCount'))\n",
    "dfWithCount.show()"
   ]
  },
  {
   "cell_type": "code",
   "execution_count": 342,
   "metadata": {
    "scrolled": false
   },
   "outputs": [
    {
     "name": "stdout",
     "output_type": "stream",
     "text": [
      "+---+--------+------+-------+----+--------+----+-----+--------------+------+------------+-----------+-----------+\n",
      "|App|Category|Rating|Reviews|Size|Installs|Type|Price|Content Rating|Genres|Last Updated|Current Ver|Android Ver|\n",
      "+---+--------+------+-------+----+--------+----+-----+--------------+------+------------+-----------+-----------+\n",
      "|  0|       0|  1167|      0|   0|       0|   1|    0|             1|     0|           0|          6|          1|\n",
      "+---+--------+------+-------+----+--------+----+-----+--------------+------+------------+-----------+-----------+\n",
      "\n"
     ]
    }
   ],
   "source": [
    "Playstore_data.select([count(when(isnan(c) | col(c).isNull(), c)).alias(c) for c in Playstore_data.columns]).show()"
   ]
  },
  {
   "cell_type": "code",
   "execution_count": 343,
   "metadata": {},
   "outputs": [],
   "source": [
    "Playstore_data = Playstore_data.withColumn(\"Rating\", Playstore_data[\"Rating\"].cast(\"double\"))"
   ]
  },
  {
   "cell_type": "markdown",
   "metadata": {},
   "source": [
    "9.Replace “” with the None for the below columns\n",
    "Rating\n",
    "CurrentVer\n",
    "AndroidVer"
   ]
  },
  {
   "cell_type": "code",
   "execution_count": 344,
   "metadata": {},
   "outputs": [
    {
     "data": {
      "text/plain": [
       "DataFrame[App: string, Category: string, Rating: double, Reviews: string, Size: string, Installs: string, Type: string, Price: string, Content Rating: string, Genres: string, Last Updated: string, Current Ver: string, Android Ver: string]"
      ]
     },
     "execution_count": 344,
     "metadata": {},
     "output_type": "execute_result"
    }
   ],
   "source": [
    "from pyspark.sql.functions import col, when\n",
    "\n",
    "#Writing function for replacing blacks with Null\n",
    "def blank_as_null(x):\n",
    "    return when(col(x) != \"\", col(x)).otherwise(None)\n",
    "\n",
    "to_convert = set([\"Rating\",\"Current Ver\",\"Android Ver\"]) # Some set of columns\n",
    "\n",
    "reduce(lambda Playstore_data, x: Playstore_data.withColumn(x, blank_as_null(x)), to_convert, Playstore_data)\n",
    "\n",
    "#Playstore_data =Playstore_data.select(when(col(\"Rating\") != \"\", col(\"Rating\")).otherwise(None))"
   ]
  },
  {
   "cell_type": "markdown",
   "metadata": {},
   "source": [
    "10.Print the Null values for each column"
   ]
  },
  {
   "cell_type": "code",
   "execution_count": 345,
   "metadata": {},
   "outputs": [
    {
     "name": "stdout",
     "output_type": "stream",
     "text": [
      "+---+--------+------+-------+----+--------+----+-----+--------------+------+------------+-----------+-----------+\n",
      "|App|Category|Rating|Reviews|Size|Installs|Type|Price|Content Rating|Genres|Last Updated|Current Ver|Android Ver|\n",
      "+---+--------+------+-------+----+--------+----+-----+--------------+------+------------+-----------+-----------+\n",
      "|  0|       0|  1474|      0|   0|       0|   1|    0|             1|     0|           0|          6|          1|\n",
      "+---+--------+------+-------+----+--------+----+-----+--------------+------+------------+-----------+-----------+\n",
      "\n"
     ]
    }
   ],
   "source": [
    "Playstore_data.select([count(when(isnan(c) | col(c).isNull(), c)).alias(c) for c in Playstore_data.columns]).show()"
   ]
  },
  {
   "cell_type": "code",
   "execution_count": 346,
   "metadata": {
    "scrolled": true
   },
   "outputs": [
    {
     "data": {
      "text/html": [
       "<div>\n",
       "<style>\n",
       "    .dataframe thead tr:only-child th {\n",
       "        text-align: right;\n",
       "    }\n",
       "\n",
       "    .dataframe thead th {\n",
       "        text-align: left;\n",
       "    }\n",
       "\n",
       "    .dataframe tbody tr th {\n",
       "        vertical-align: top;\n",
       "    }\n",
       "</style>\n",
       "<table border=\"1\" class=\"dataframe\">\n",
       "  <thead>\n",
       "    <tr style=\"text-align: right;\">\n",
       "      <th></th>\n",
       "      <th>App</th>\n",
       "      <th>Category</th>\n",
       "      <th>Rating</th>\n",
       "      <th>Reviews</th>\n",
       "      <th>Size</th>\n",
       "      <th>Installs</th>\n",
       "      <th>Type</th>\n",
       "      <th>Price</th>\n",
       "      <th>Content Rating</th>\n",
       "      <th>Genres</th>\n",
       "      <th>Last Updated</th>\n",
       "      <th>Current Ver</th>\n",
       "      <th>Android Ver</th>\n",
       "    </tr>\n",
       "  </thead>\n",
       "  <tbody>\n",
       "    <tr>\n",
       "      <th>0</th>\n",
       "      <td>Tennis Champion 3D - Online Sports Game</td>\n",
       "      <td>SPORTS</td>\n",
       "      <td>4.0</td>\n",
       "      <td>170973</td>\n",
       "      <td>43M</td>\n",
       "      <td>5,000,000+</td>\n",
       "      <td>Free</td>\n",
       "      <td>0</td>\n",
       "      <td>Everyone</td>\n",
       "      <td>Sports</td>\n",
       "      <td>June 6, 2018</td>\n",
       "      <td>2.1</td>\n",
       "      <td>4.1 and up</td>\n",
       "    </tr>\n",
       "    <tr>\n",
       "      <th>1</th>\n",
       "      <td>Carnivores: Dinosaur Hunter</td>\n",
       "      <td>GAME</td>\n",
       "      <td>4.2</td>\n",
       "      <td>62636</td>\n",
       "      <td>17M</td>\n",
       "      <td>1,000,000+</td>\n",
       "      <td>Free</td>\n",
       "      <td>0</td>\n",
       "      <td>Teen</td>\n",
       "      <td>Action</td>\n",
       "      <td>July 2, 2018</td>\n",
       "      <td>1.8.0</td>\n",
       "      <td>4.0.3 and up</td>\n",
       "    </tr>\n",
       "    <tr>\n",
       "      <th>2</th>\n",
       "      <td>High School Simulator 2017</td>\n",
       "      <td>FAMILY</td>\n",
       "      <td>4.2</td>\n",
       "      <td>123136</td>\n",
       "      <td>80M</td>\n",
       "      <td>5,000,000+</td>\n",
       "      <td>Free</td>\n",
       "      <td>0</td>\n",
       "      <td>Mature 17+</td>\n",
       "      <td>Simulation</td>\n",
       "      <td>June 25, 2018</td>\n",
       "      <td>1.0</td>\n",
       "      <td>4.0 and up</td>\n",
       "    </tr>\n",
       "  </tbody>\n",
       "</table>\n",
       "</div>"
      ],
      "text/plain": [
       "                                       App Category  Rating Reviews Size  \\\n",
       "0  Tennis Champion 3D - Online Sports Game   SPORTS     4.0  170973  43M   \n",
       "1              Carnivores: Dinosaur Hunter     GAME     4.2   62636  17M   \n",
       "2               High School Simulator 2017   FAMILY     4.2  123136  80M   \n",
       "\n",
       "     Installs  Type Price Content Rating      Genres   Last Updated  \\\n",
       "0  5,000,000+  Free     0       Everyone      Sports   June 6, 2018   \n",
       "1  1,000,000+  Free     0           Teen      Action   July 2, 2018   \n",
       "2  5,000,000+  Free     0     Mature 17+  Simulation  June 25, 2018   \n",
       "\n",
       "  Current Ver   Android Ver  \n",
       "0         2.1    4.1 and up  \n",
       "1       1.8.0  4.0.3 and up  \n",
       "2         1.0    4.0 and up  "
      ]
     },
     "execution_count": 346,
     "metadata": {},
     "output_type": "execute_result"
    }
   ],
   "source": [
    "Playstore_data.toPandas().head(3)"
   ]
  },
  {
   "cell_type": "markdown",
   "metadata": {},
   "source": [
    "11.Remove the alphabet characters in Size column."
   ]
  },
  {
   "cell_type": "code",
   "execution_count": 355,
   "metadata": {},
   "outputs": [
    {
     "name": "stdout",
     "output_type": "stream",
     "text": [
      "+--------------------+--------+------+-------+----+----------+----+-----+--------------+----------+-------------+-----------+------------+\n",
      "|                 App|Category|Rating|Reviews|Size|  Installs|Type|Price|Content Rating|    Genres| Last Updated|Current Ver| Android Ver|\n",
      "+--------------------+--------+------+-------+----+----------+----+-----+--------------+----------+-------------+-----------+------------+\n",
      "|Tennis Champion 3...|  SPORTS|   4.0| 170973|  43|5,000,000+|Free|    0|      Everyone|    Sports| June 6, 2018|        2.1|  4.1 and up|\n",
      "|Carnivores: Dinos...|    GAME|   4.2|  62636|  17|1,000,000+|Free|    0|          Teen|    Action| July 2, 2018|      1.8.0|4.0.3 and up|\n",
      "|High School Simul...|  FAMILY|   4.2| 123136|  80|5,000,000+|Free|    0|    Mature 17+|Simulation|June 25, 2018|        1.0|  4.0 and up|\n",
      "+--------------------+--------+------+-------+----+----------+----+-----+--------------+----------+-------------+-----------+------------+\n",
      "only showing top 3 rows\n",
      "\n"
     ]
    }
   ],
   "source": [
    "Playstore_data = Playstore_data.withColumn(\"Size\", regexp_replace(\"Size\", 'M', \"\"))\n",
    "Playstore_data = Playstore_data.withColumn(\"Size\", regexp_replace(\"Size\", 'k', \"\"))\n",
    "Playstore_data= Playstore_data.withColumn(\"Size\", when(Playstore_data[\"Size\"]== \"Varies with device\", 0).otherwise(Playstore_data[\"Size\"]))\n",
    "\n",
    "#Playstore_data = Playstore_data.withColumn(\"Size\", regexp_replace(\"Size\", \"Varies with device\", 0))\n",
    "Playstore_data.show(3)"
   ]
  },
  {
   "cell_type": "code",
   "execution_count": 360,
   "metadata": {},
   "outputs": [
    {
     "name": "stdout",
     "output_type": "stream",
     "text": [
      "+----+---------+\n",
      "|Size|itemCount|\n",
      "+----+---------+\n",
      "|   0|     1695|\n",
      "|  11|      199|\n",
      "|  12|      196|\n",
      "|  14|      195|\n",
      "|  13|      191|\n",
      "|  15|      184|\n",
      "|  17|      162|\n",
      "|  19|      154|\n",
      "|  26|      151|\n",
      "|  16|      149|\n",
      "+----+---------+\n",
      "only showing top 10 rows\n",
      "\n"
     ]
    }
   ],
   "source": [
    "dfWithCount = Playstore_data.groupBy(\"Size\").agg(count(\"Size\").alias(\"itemCount\")).sort(desc('itemCount'))\n",
    "dfWithCount.show(10)"
   ]
  },
  {
   "cell_type": "markdown",
   "metadata": {},
   "source": [
    "12.Remove the “+” and “,” from the Installs column. Check by printing the contents of the column."
   ]
  },
  {
   "cell_type": "code",
   "execution_count": 361,
   "metadata": {},
   "outputs": [
    {
     "name": "stdout",
     "output_type": "stream",
     "text": [
      "+--------------------+--------+------+-------+----+--------+----+-----+--------------+----------+-------------+-----------+------------+\n",
      "|                 App|Category|Rating|Reviews|Size|Installs|Type|Price|Content Rating|    Genres| Last Updated|Current Ver| Android Ver|\n",
      "+--------------------+--------+------+-------+----+--------+----+-----+--------------+----------+-------------+-----------+------------+\n",
      "|Tennis Champion 3...|  SPORTS|   4.0| 170973|  43| 5000000|Free|    0|      Everyone|    Sports| June 6, 2018|        2.1|  4.1 and up|\n",
      "|Carnivores: Dinos...|    GAME|   4.2|  62636|  17| 1000000|Free|    0|          Teen|    Action| July 2, 2018|      1.8.0|4.0.3 and up|\n",
      "|High School Simul...|  FAMILY|   4.2| 123136|  80| 5000000|Free|    0|    Mature 17+|Simulation|June 25, 2018|        1.0|  4.0 and up|\n",
      "+--------------------+--------+------+-------+----+--------+----+-----+--------------+----------+-------------+-----------+------------+\n",
      "only showing top 3 rows\n",
      "\n"
     ]
    }
   ],
   "source": [
    "Playstore_data = Playstore_data.withColumn(\"Installs\", regexp_replace(\"Installs\", \"[+,]\", \"\"))\n",
    "Playstore_data.show(3)"
   ]
  },
  {
   "cell_type": "markdown",
   "metadata": {},
   "source": [
    "13.Print the distinct values and the number of rows for each distinct values for the below columns.\n",
    "Type\n",
    "Price\n",
    "Content Rating"
   ]
  },
  {
   "cell_type": "code",
   "execution_count": 362,
   "metadata": {},
   "outputs": [
    {
     "name": "stdout",
     "output_type": "stream",
     "text": [
      "+-------+---------+\n",
      "|  Price|itemCount|\n",
      "+-------+---------+\n",
      "|      0|    10040|\n",
      "|  $0.99|      148|\n",
      "|  $2.99|      129|\n",
      "|  $1.99|       73|\n",
      "|  $4.99|       72|\n",
      "|  $3.99|       63|\n",
      "|  $1.49|       46|\n",
      "|  $5.99|       30|\n",
      "|  $2.49|       26|\n",
      "|  $9.99|       21|\n",
      "|  $6.99|       13|\n",
      "|$399.99|       12|\n",
      "| $14.99|       11|\n",
      "|  $4.49|        9|\n",
      "| $24.99|        7|\n",
      "|  $3.49|        7|\n",
      "|  $7.99|        7|\n",
      "| $29.99|        7|\n",
      "| $19.99|        6|\n",
      "|  $5.49|        6|\n",
      "+-------+---------+\n",
      "only showing top 20 rows\n",
      "\n"
     ]
    }
   ],
   "source": [
    "dfWithCount = Playstore_data.groupBy(\"Price\").agg(count(\"Price\").alias(\"itemCount\")).sort(desc('itemCount'))\n",
    "dfWithCount.show()\n"
   ]
  },
  {
   "cell_type": "code",
   "execution_count": 363,
   "metadata": {},
   "outputs": [
    {
     "name": "stdout",
     "output_type": "stream",
     "text": [
      "+---------------+---------+\n",
      "| Content Rating|itemCount|\n",
      "+---------------+---------+\n",
      "|       Everyone|     8714|\n",
      "|           Teen|     1208|\n",
      "|     Mature 17+|      499|\n",
      "|   Everyone 10+|      414|\n",
      "|Adults only 18+|        3|\n",
      "|        Unrated|        2|\n",
      "|           null|        0|\n",
      "+---------------+---------+\n",
      "\n"
     ]
    }
   ],
   "source": [
    "dfWithCount = Playstore_data.groupBy(\"Content Rating\").agg(count(\"Content Rating\").alias(\"itemCount\")).sort(desc('itemCount'))\n",
    "dfWithCount.show()\n"
   ]
  },
  {
   "cell_type": "code",
   "execution_count": 364,
   "metadata": {},
   "outputs": [
    {
     "name": "stdout",
     "output_type": "stream",
     "text": [
      "+----+---------+\n",
      "|Type|itemCount|\n",
      "+----+---------+\n",
      "|Free|    10039|\n",
      "|Paid|      800|\n",
      "|   0|        1|\n",
      "|null|        0|\n",
      "+----+---------+\n",
      "\n"
     ]
    }
   ],
   "source": [
    "#Displaying distict values and item row count for Type column\n",
    "dfWithCount = Playstore_data.groupBy(\"Type\").agg(count(\"Type\").alias(\"itemCount\")).sort(desc('itemCount'))\n",
    "dfWithCount.show()\n"
   ]
  },
  {
   "cell_type": "markdown",
   "metadata": {},
   "source": [
    "14.Replace the “2509” and “0” in Type column to None, if they are present."
   ]
  },
  {
   "cell_type": "code",
   "execution_count": 365,
   "metadata": {},
   "outputs": [
    {
     "name": "stdout",
     "output_type": "stream",
     "text": [
      "+--------------------+--------+------+-------+----+--------+----+-----+--------------+----------+-------------+-----------+------------+\n",
      "|                 App|Category|Rating|Reviews|Size|Installs|Type|Price|Content Rating|    Genres| Last Updated|Current Ver| Android Ver|\n",
      "+--------------------+--------+------+-------+----+--------+----+-----+--------------+----------+-------------+-----------+------------+\n",
      "|Tennis Champion 3...|  SPORTS|   4.0| 170973|  43| 5000000|Free|    0|      Everyone|    Sports| June 6, 2018|        2.1|  4.1 and up|\n",
      "|Carnivores: Dinos...|    GAME|   4.2|  62636|  17| 1000000|Free|    0|          Teen|    Action| July 2, 2018|      1.8.0|4.0.3 and up|\n",
      "|High School Simul...|  FAMILY|   4.2| 123136|  80| 5000000|Free|    0|    Mature 17+|Simulation|June 25, 2018|        1.0|  4.0 and up|\n",
      "+--------------------+--------+------+-------+----+--------+----+-----+--------------+----------+-------------+-----------+------------+\n",
      "only showing top 3 rows\n",
      "\n"
     ]
    }
   ],
   "source": [
    "#As by above result there is no 2509 value in Type column so checking only for 0\n",
    "from pyspark.sql.functions import col, when\n",
    "Playstore_data= Playstore_data.withColumn(\"Type\", when(Playstore_data[\"Type\"]== 0, None).otherwise(Playstore_data[\"Type\"]))\n",
    "Playstore_data.show(3)\n"
   ]
  },
  {
   "cell_type": "code",
   "execution_count": 366,
   "metadata": {},
   "outputs": [
    {
     "name": "stdout",
     "output_type": "stream",
     "text": [
      "+---+--------+------+-------+----+--------+----+-----+--------------+------+------------+-----------+-----------+\n",
      "|App|Category|Rating|Reviews|Size|Installs|Type|Price|Content Rating|Genres|Last Updated|Current Ver|Android Ver|\n",
      "+---+--------+------+-------+----+--------+----+-----+--------------+------+------------+-----------+-----------+\n",
      "|  0|       0|  1474|      0|   0|       0|   2|    0|             1|     0|           0|          6|          1|\n",
      "+---+--------+------+-------+----+--------+----+-----+--------------+------+------------+-----------+-----------+\n",
      "\n"
     ]
    }
   ],
   "source": [
    "Playstore_data.select([count(when(isnan(c) | col(c).isNull(), c)).alias(c) for c in Playstore_data.columns]).show()"
   ]
  },
  {
   "cell_type": "markdown",
   "metadata": {},
   "source": [
    "15.Change Free to 0 and Paid to 1 in Type column."
   ]
  },
  {
   "cell_type": "code",
   "execution_count": 367,
   "metadata": {},
   "outputs": [
    {
     "name": "stdout",
     "output_type": "stream",
     "text": [
      "+--------------------+--------+------+-------+----+--------+----+-----+--------------+----------+-------------+-----------+------------+\n",
      "|                 App|Category|Rating|Reviews|Size|Installs|Type|Price|Content Rating|    Genres| Last Updated|Current Ver| Android Ver|\n",
      "+--------------------+--------+------+-------+----+--------+----+-----+--------------+----------+-------------+-----------+------------+\n",
      "|Tennis Champion 3...|  SPORTS|   4.0| 170973|  43| 5000000|   0|    0|      Everyone|    Sports| June 6, 2018|        2.1|  4.1 and up|\n",
      "|Carnivores: Dinos...|    GAME|   4.2|  62636|  17| 1000000|   0|    0|          Teen|    Action| July 2, 2018|      1.8.0|4.0.3 and up|\n",
      "|High School Simul...|  FAMILY|   4.2| 123136|  80| 5000000|   0|    0|    Mature 17+|Simulation|June 25, 2018|        1.0|  4.0 and up|\n",
      "+--------------------+--------+------+-------+----+--------+----+-----+--------------+----------+-------------+-----------+------------+\n",
      "only showing top 3 rows\n",
      "\n"
     ]
    }
   ],
   "source": [
    "from pyspark.sql.functions import col, when\n",
    "Playstore_data= Playstore_data.withColumn(\"Type\", when(Playstore_data[\"Type\"]== \"Free\", 0).otherwise(Playstore_data[\"Type\"]))\n",
    "Playstore_data.show(3)\n"
   ]
  },
  {
   "cell_type": "code",
   "execution_count": 368,
   "metadata": {},
   "outputs": [
    {
     "name": "stdout",
     "output_type": "stream",
     "text": [
      "+--------------------+--------+------+-------+----+--------+----+-----+--------------+----------+-------------+-----------+------------+\n",
      "|                 App|Category|Rating|Reviews|Size|Installs|Type|Price|Content Rating|    Genres| Last Updated|Current Ver| Android Ver|\n",
      "+--------------------+--------+------+-------+----+--------+----+-----+--------------+----------+-------------+-----------+------------+\n",
      "|Tennis Champion 3...|  SPORTS|   4.0| 170973|  43| 5000000|   0|    0|      Everyone|    Sports| June 6, 2018|        2.1|  4.1 and up|\n",
      "|Carnivores: Dinos...|    GAME|   4.2|  62636|  17| 1000000|   0|    0|          Teen|    Action| July 2, 2018|      1.8.0|4.0.3 and up|\n",
      "|High School Simul...|  FAMILY|   4.2| 123136|  80| 5000000|   0|    0|    Mature 17+|Simulation|June 25, 2018|        1.0|  4.0 and up|\n",
      "+--------------------+--------+------+-------+----+--------+----+-----+--------------+----------+-------------+-----------+------------+\n",
      "only showing top 3 rows\n",
      "\n"
     ]
    }
   ],
   "source": [
    "from pyspark.sql.functions import col, when\n",
    "Playstore_data= Playstore_data.withColumn(\"Type\", when(Playstore_data[\"Type\"]== \"Paid\", 1).otherwise(Playstore_data[\"Type\"]))\n",
    "Playstore_data.show(3)\n"
   ]
  },
  {
   "cell_type": "code",
   "execution_count": 369,
   "metadata": {},
   "outputs": [
    {
     "name": "stdout",
     "output_type": "stream",
     "text": [
      "+----+---------+\n",
      "|Type|itemCount|\n",
      "+----+---------+\n",
      "|   0|    10039|\n",
      "|   1|      800|\n",
      "|null|        0|\n",
      "+----+---------+\n",
      "\n"
     ]
    }
   ],
   "source": [
    "#Displaying distict values and item row count for Type column\n",
    "dfWithCount = Playstore_data.groupBy(\"Type\").agg(count(\"Type\").alias(\"itemCount\")).sort(desc('itemCount'))\n",
    "dfWithCount.show()\n"
   ]
  },
  {
   "cell_type": "markdown",
   "metadata": {},
   "source": [
    "16.Impute the NA values only in Type column with 0."
   ]
  },
  {
   "cell_type": "code",
   "execution_count": 370,
   "metadata": {},
   "outputs": [
    {
     "name": "stdout",
     "output_type": "stream",
     "text": [
      "+--------------------+--------+------+-------+----+--------+----+-----+--------------+----------+-------------+-----------+------------+\n",
      "|                 App|Category|Rating|Reviews|Size|Installs|Type|Price|Content Rating|    Genres| Last Updated|Current Ver| Android Ver|\n",
      "+--------------------+--------+------+-------+----+--------+----+-----+--------------+----------+-------------+-----------+------------+\n",
      "|Tennis Champion 3...|  SPORTS|   4.0| 170973|  43| 5000000|   0|    0|      Everyone|    Sports| June 6, 2018|        2.1|  4.1 and up|\n",
      "|Carnivores: Dinos...|    GAME|   4.2|  62636|  17| 1000000|   0|    0|          Teen|    Action| July 2, 2018|      1.8.0|4.0.3 and up|\n",
      "|High School Simul...|  FAMILY|   4.2| 123136|  80| 5000000|   0|    0|    Mature 17+|Simulation|June 25, 2018|        1.0|  4.0 and up|\n",
      "+--------------------+--------+------+-------+----+--------+----+-----+--------------+----------+-------------+-----------+------------+\n",
      "only showing top 3 rows\n",
      "\n"
     ]
    }
   ],
   "source": [
    "from pyspark.sql.functions import col, when\n",
    "Playstore_data= Playstore_data.withColumn(\"Type\", when(Playstore_data[\"Type\"].isNull(), 0).otherwise(Playstore_data[\"Type\"]))\n",
    "Playstore_data.show(3)\n"
   ]
  },
  {
   "cell_type": "code",
   "execution_count": 371,
   "metadata": {},
   "outputs": [
    {
     "name": "stdout",
     "output_type": "stream",
     "text": [
      "+---+--------+------+-------+----+--------+----+-----+--------------+------+------------+-----------+-----------+\n",
      "|App|Category|Rating|Reviews|Size|Installs|Type|Price|Content Rating|Genres|Last Updated|Current Ver|Android Ver|\n",
      "+---+--------+------+-------+----+--------+----+-----+--------------+------+------------+-----------+-----------+\n",
      "|  0|       0|  1474|      0|   0|       0|   0|    0|             1|     0|           0|          6|          1|\n",
      "+---+--------+------+-------+----+--------+----+-----+--------------+------+------------+-----------+-----------+\n",
      "\n"
     ]
    }
   ],
   "source": [
    "Playstore_data.select([count(when(isnan(c) | col(c).isNull(), c)).alias(c) for c in Playstore_data.columns]).show()"
   ]
  },
  {
   "cell_type": "markdown",
   "metadata": {},
   "source": [
    "17.Remove the “$” symbol from Price column."
   ]
  },
  {
   "cell_type": "code",
   "execution_count": 372,
   "metadata": {},
   "outputs": [
    {
     "name": "stdout",
     "output_type": "stream",
     "text": [
      "+--------------------+--------+------+-------+----+--------+----+-------+--------------+----------+-------------+-----------+------------+\n",
      "|                 App|Category|Rating|Reviews|Size|Installs|Type|  Price|Content Rating|    Genres| Last Updated|Current Ver| Android Ver|\n",
      "+--------------------+--------+------+-------+----+--------+----+-------+--------------+----------+-------------+-----------+------------+\n",
      "|Tennis Champion 3...|  SPORTS|   4.0| 170973|  43| 5000000|   0|5000000|      Everyone|    Sports| June 6, 2018|        2.1|  4.1 and up|\n",
      "|Carnivores: Dinos...|    GAME|   4.2|  62636|  17| 1000000|   0|1000000|          Teen|    Action| July 2, 2018|      1.8.0|4.0.3 and up|\n",
      "|High School Simul...|  FAMILY|   4.2| 123136|  80| 5000000|   0|5000000|    Mature 17+|Simulation|June 25, 2018|        1.0|  4.0 and up|\n",
      "+--------------------+--------+------+-------+----+--------+----+-------+--------------+----------+-------------+-----------+------------+\n",
      "only showing top 3 rows\n",
      "\n"
     ]
    }
   ],
   "source": [
    "Playstore_data = Playstore_data.withColumn(\"Price\", regexp_replace(\"Installs\", \"[$]\", \"\"))\n",
    "Playstore_data.show(3)"
   ]
  },
  {
   "cell_type": "markdown",
   "metadata": {},
   "source": [
    "18.Remove records if there are null values in any of the rows and check the size of the dataframe."
   ]
  },
  {
   "cell_type": "code",
   "execution_count": 373,
   "metadata": {},
   "outputs": [],
   "source": [
    "from pyspark.sql.functions import col, when\n",
    "for col in Playstore_data.columns:\n",
    "    Playstore_data= Playstore_data.filter(Playstore_data[col].isNotNull())"
   ]
  },
  {
   "cell_type": "code",
   "execution_count": 374,
   "metadata": {},
   "outputs": [
    {
     "name": "stdout",
     "output_type": "stream",
     "text": [
      "+---+--------+------+-------+----+--------+----+-----+--------------+------+------------+-----------+-----------+\n",
      "|App|Category|Rating|Reviews|Size|Installs|Type|Price|Content Rating|Genres|Last Updated|Current Ver|Android Ver|\n",
      "+---+--------+------+-------+----+--------+----+-----+--------------+------+------------+-----------+-----------+\n",
      "|  0|       0|     0|      0|   0|       0|   0|    0|             0|     0|           0|          0|          0|\n",
      "+---+--------+------+-------+----+--------+----+-----+--------------+------+------------+-----------+-----------+\n",
      "\n"
     ]
    }
   ],
   "source": [
    "from pyspark.sql.functions import col, when\n",
    "\n",
    "Playstore_data.select([count(when(isnan(c) | col(c).isNull(), c)).alias(c) for c in Playstore_data.columns]).show()"
   ]
  },
  {
   "cell_type": "code",
   "execution_count": 375,
   "metadata": {},
   "outputs": [
    {
     "name": "stdout",
     "output_type": "stream",
     "text": [
      "Total Playstore records count is 9364\n",
      "Total Playstore Columns count is 13\n",
      "\n",
      "\n",
      " Playstore Columns are: ['App', 'Category', 'Rating', 'Reviews', 'Size', 'Installs', 'Type', 'Price', 'Content Rating', 'Genres', 'Last Updated', 'Current Ver', 'Android Ver'] \n",
      "\n"
     ]
    }
   ],
   "source": [
    "## To Count the number of rows in DataFrame\n",
    "print('Total Playstore records count is {}'.format(Playstore_data.count()))\n",
    "## Columns count and column names\n",
    "print(\"Total Playstore Columns count is {}\".format(len(Playstore_data.columns)))\n",
    "print(\"\\n\\n Playstore Columns are: {} \\n\".format(Playstore_data.columns))\n"
   ]
  },
  {
   "cell_type": "markdown",
   "metadata": {},
   "source": [
    "19.Draw a histogram plot for Genres and Content Rating"
   ]
  },
  {
   "cell_type": "code",
   "execution_count": 376,
   "metadata": {},
   "outputs": [
    {
     "data": {
      "text/plain": [
       "<matplotlib.axes._subplots.AxesSubplot at 0xfc5d9d0>"
      ]
     },
     "execution_count": 376,
     "metadata": {},
     "output_type": "execute_result"
    },
    {
     "data": {
      "image/png": "[encoded data removed]",
      "text/plain": [
       "<matplotlib.figure.Figure at 0xaba9950>"
      ]
     },
     "metadata": {},
     "output_type": "display_data"
    }
   ],
   "source": [
    "Playstore_data.toPandas()[\"Genres\"].value_counts().plot(kind='bar', figsize = (10,10))"
   ]
  },
  {
   "cell_type": "code",
   "execution_count": 377,
   "metadata": {
    "scrolled": true
   },
   "outputs": [
    {
     "data": {
      "text/plain": [
       "<matplotlib.axes._subplots.AxesSubplot at 0x104eead0>"
      ]
     },
     "execution_count": 377,
     "metadata": {},
     "output_type": "execute_result"
    },
    {
     "data": {
      "image/png": "[encoded data removed]",
      "text/plain": [
       "<matplotlib.figure.Figure at 0xfaf3910>"
      ]
     },
     "metadata": {},
     "output_type": "display_data"
    }
   ],
   "source": [
    "'''import matplotlib.pyplot as plt\n",
    "import seaborn as sns\n",
    "\n",
    "plt.figure(figsize = (12,8))\n",
    "b = sns.barplot(Playstore_data.select(\"Genres\"))\n",
    "b.set_title('Histogram of Genres',fontsize = 16)\n",
    "b.set_xlabel(\"Genres\",fontsize=14)\n",
    "plt.show()'''\n",
    "\n",
    "Playstore_data.toPandas()[\"Content Rating\"].value_counts().plot(kind='bar', figsize = (10,10))"
   ]
  },
  {
   "cell_type": "markdown",
   "metadata": {},
   "source": [
    "20.Drop the below columns\n",
    "App\n",
    "LastUpdated\n",
    "CurrentVer\n",
    "AndroidVer\n",
    "Genres"
   ]
  },
  {
   "cell_type": "code",
   "execution_count": 419,
   "metadata": {},
   "outputs": [],
   "source": [
    "Playstore_data_new= Playstore_data.select([c for c in Playstore_data.columns if c not in { \"App\", \"Last Updated\", \"Current Ver\", \"Android Ver\", \"Genres\"}])"
   ]
  },
  {
   "cell_type": "code",
   "execution_count": 420,
   "metadata": {},
   "outputs": [
    {
     "name": "stdout",
     "output_type": "stream",
     "text": [
      "root\n",
      " |-- Category: string (nullable = true)\n",
      " |-- Rating: double (nullable = true)\n",
      " |-- Reviews: string (nullable = true)\n",
      " |-- Size: string (nullable = true)\n",
      " |-- Installs: string (nullable = true)\n",
      " |-- Type: string (nullable = true)\n",
      " |-- Price: string (nullable = true)\n",
      " |-- Content Rating: string (nullable = true)\n",
      "\n"
     ]
    }
   ],
   "source": [
    "Playstore_data_new.printSchema()"
   ]
  },
  {
   "cell_type": "markdown",
   "metadata": {},
   "source": [
    "21.Print the count of distinct values for all the columns using loop."
   ]
  },
  {
   "cell_type": "code",
   "execution_count": 421,
   "metadata": {},
   "outputs": [
    {
     "name": "stdout",
     "output_type": "stream",
     "text": [
      "+--------+------+-------+----+--------+----+-----+--------------+\n",
      "|Category|Rating|Reviews|Size|Installs|Type|Price|Content Rating|\n",
      "+--------+------+-------+----+--------+----+-----+--------------+\n",
      "|      33|    39|   5991| 378|      19|   2|   19|             6|\n",
      "+--------+------+-------+----+--------+----+-----+--------------+\n",
      "\n"
     ]
    }
   ],
   "source": [
    "from pyspark.sql.functions import col, countDistinct\n",
    "\n",
    "Playstore_data_new.agg(*(countDistinct(col(c)).alias(c) for c in Playstore_data_new.columns)).show()"
   ]
  },
  {
   "cell_type": "markdown",
   "metadata": {},
   "source": [
    "22.Print Summary of all the columns."
   ]
  },
  {
   "cell_type": "code",
   "execution_count": 422,
   "metadata": {},
   "outputs": [
    {
     "name": "stdout",
     "output_type": "stream",
     "text": [
      "+-------+--------------+------------------+------------------+------------------+-------------------+------------------+-------------------+---------------+\n",
      "|summary|      Category|            Rating|           Reviews|              Size|           Installs|              Type|              Price| Content Rating|\n",
      "+-------+--------------+------------------+------------------+------------------+-------------------+------------------+-------------------+---------------+\n",
      "|  count|          9364|              9364|              9364|              9364|               9364|              9364|               9364|           9364|\n",
      "|   mean|          null| 4.191777018368222| 514159.1819735156|30.772031183255017|1.790120759696711E7|0.0689876121315677|1.790120759696711E7|           null|\n",
      "| stddev|          null|0.5152700645201685|3144368.9988012323| 86.12547785036206|9.124759777743632E7|0.2534466044464957|9.124759777743632E7|           null|\n",
      "|    min|ART_AND_DESIGN|               1.0|                 1|                 0|                  1|                 0|                  1|Adults only 18+|\n",
      "|    max|       WEATHER|               5.0|              9992|               994|          500000000|                 1|          500000000|        Unrated|\n",
      "+-------+--------------+------------------+------------------+------------------+-------------------+------------------+-------------------+---------------+\n",
      "\n"
     ]
    }
   ],
   "source": [
    "Playstore_data_new.describe().show()"
   ]
  },
  {
   "cell_type": "markdown",
   "metadata": {},
   "source": [
    "23.Type cast all the numerical columns to double type and categorical columns to String type. NOTE: Rating column is the Target Variable."
   ]
  },
  {
   "cell_type": "code",
   "execution_count": 423,
   "metadata": {},
   "outputs": [
    {
     "data": {
      "text/html": [
       "<div>\n",
       "<style>\n",
       "    .dataframe thead tr:only-child th {\n",
       "        text-align: right;\n",
       "    }\n",
       "\n",
       "    .dataframe thead th {\n",
       "        text-align: left;\n",
       "    }\n",
       "\n",
       "    .dataframe tbody tr th {\n",
       "        vertical-align: top;\n",
       "    }\n",
       "</style>\n",
       "<table border=\"1\" class=\"dataframe\">\n",
       "  <thead>\n",
       "    <tr style=\"text-align: right;\">\n",
       "      <th></th>\n",
       "      <th>Category</th>\n",
       "      <th>Rating</th>\n",
       "      <th>Reviews</th>\n",
       "      <th>Size</th>\n",
       "      <th>Installs</th>\n",
       "      <th>Type</th>\n",
       "      <th>Price</th>\n",
       "      <th>Content Rating</th>\n",
       "    </tr>\n",
       "  </thead>\n",
       "  <tbody>\n",
       "    <tr>\n",
       "      <th>0</th>\n",
       "      <td>SPORTS</td>\n",
       "      <td>4.0</td>\n",
       "      <td>170973</td>\n",
       "      <td>43</td>\n",
       "      <td>5000000</td>\n",
       "      <td>0</td>\n",
       "      <td>5000000</td>\n",
       "      <td>Everyone</td>\n",
       "    </tr>\n",
       "    <tr>\n",
       "      <th>1</th>\n",
       "      <td>GAME</td>\n",
       "      <td>4.2</td>\n",
       "      <td>62636</td>\n",
       "      <td>17</td>\n",
       "      <td>1000000</td>\n",
       "      <td>0</td>\n",
       "      <td>1000000</td>\n",
       "      <td>Teen</td>\n",
       "    </tr>\n",
       "    <tr>\n",
       "      <th>2</th>\n",
       "      <td>FAMILY</td>\n",
       "      <td>4.2</td>\n",
       "      <td>123136</td>\n",
       "      <td>80</td>\n",
       "      <td>5000000</td>\n",
       "      <td>0</td>\n",
       "      <td>5000000</td>\n",
       "      <td>Mature 17+</td>\n",
       "    </tr>\n",
       "    <tr>\n",
       "      <th>3</th>\n",
       "      <td>GAME</td>\n",
       "      <td>4.2</td>\n",
       "      <td>250197</td>\n",
       "      <td>44</td>\n",
       "      <td>5000000</td>\n",
       "      <td>0</td>\n",
       "      <td>5000000</td>\n",
       "      <td>Teen</td>\n",
       "    </tr>\n",
       "    <tr>\n",
       "      <th>4</th>\n",
       "      <td>SPORTS</td>\n",
       "      <td>4.8</td>\n",
       "      <td>221722</td>\n",
       "      <td>0</td>\n",
       "      <td>10000000</td>\n",
       "      <td>0</td>\n",
       "      <td>10000000</td>\n",
       "      <td>Everyone</td>\n",
       "    </tr>\n",
       "  </tbody>\n",
       "</table>\n",
       "</div>"
      ],
      "text/plain": [
       "  Category  Rating Reviews Size  Installs Type     Price Content Rating\n",
       "0   SPORTS     4.0  170973   43   5000000    0   5000000       Everyone\n",
       "1     GAME     4.2   62636   17   1000000    0   1000000           Teen\n",
       "2   FAMILY     4.2  123136   80   5000000    0   5000000     Mature 17+\n",
       "3     GAME     4.2  250197   44   5000000    0   5000000           Teen\n",
       "4   SPORTS     4.8  221722    0  10000000    0  10000000       Everyone"
      ]
     },
     "execution_count": 423,
     "metadata": {},
     "output_type": "execute_result"
    }
   ],
   "source": [
    "Playstore_data_new.toPandas().head()"
   ]
  },
  {
   "cell_type": "code",
   "execution_count": 424,
   "metadata": {},
   "outputs": [],
   "source": [
    "#Datatypes changing into appropriate columns"
   ]
  },
  {
   "cell_type": "code",
   "execution_count": 425,
   "metadata": {},
   "outputs": [],
   "source": [
    "num_vars= [\"Rating\",\"Reviews\", \"Size\",\"Installs\", \"Type\", \"Price\"]\n",
    "for col_name in num_vars:\n",
    "    Playstore_data_new = Playstore_data_new.withColumn(col_name, col(col_name).cast('float'))\n"
   ]
  },
  {
   "cell_type": "code",
   "execution_count": 426,
   "metadata": {},
   "outputs": [],
   "source": [
    "Playstore_data_new = Playstore_data_new.withColumn(col_name, col(col_name).cast('float'))\n",
    "\n"
   ]
  },
  {
   "cell_type": "code",
   "execution_count": 427,
   "metadata": {},
   "outputs": [
    {
     "name": "stdout",
     "output_type": "stream",
     "text": [
      "root\n",
      " |-- Category: string (nullable = true)\n",
      " |-- Rating: float (nullable = true)\n",
      " |-- Reviews: float (nullable = true)\n",
      " |-- Size: float (nullable = true)\n",
      " |-- Installs: float (nullable = true)\n",
      " |-- Type: float (nullable = true)\n",
      " |-- Price: float (nullable = true)\n",
      " |-- Content Rating: string (nullable = true)\n",
      "\n"
     ]
    }
   ],
   "source": [
    "Playstore_data_new.printSchema()"
   ]
  },
  {
   "cell_type": "markdown",
   "metadata": {},
   "source": [
    "24.Split the data into training data and test data"
   ]
  },
  {
   "cell_type": "code",
   "execution_count": 418,
   "metadata": {},
   "outputs": [],
   "source": [
    "(trainingData, testData) = Playstore_data_new.randomSplit([0.7, 0.3])"
   ]
  },
  {
   "cell_type": "markdown",
   "metadata": {},
   "source": [
    "25.Using Spark ML pipeline, build atleast 2 regression models and Tune the models. HINT: Use setHandleInvalid(“Keep”)."
   ]
  },
  {
   "cell_type": "code",
   "execution_count": 467,
   "metadata": {},
   "outputs": [],
   "source": [
    "cat_Var_Names= [\"Category\", \"Content Rating\"]\n",
    "num_Var_Names= [\"Reviews\", \"Size\",\"Installs\", \"Type\", \"Price\"]\n",
    "Target= [\"Rating\"]"
   ]
  },
  {
   "cell_type": "code",
   "execution_count": 468,
   "metadata": {},
   "outputs": [],
   "source": [
    "#Vector Assembler"
   ]
  },
  {
   "cell_type": "code",
   "execution_count": 469,
   "metadata": {},
   "outputs": [],
   "source": [
    "from pyspark.ml.feature import VectorAssembler\n",
    "vector_assembler_NumVars = VectorAssembler(inputCols=num_Var_Names, outputCol=\"num_features_all\")"
   ]
  },
  {
   "cell_type": "markdown",
   "metadata": {},
   "source": [
    "### Min-max scaling"
   ]
  },
  {
   "cell_type": "code",
   "execution_count": 470,
   "metadata": {},
   "outputs": [],
   "source": [
    "### Min-max scaling\n",
    "\n",
    "from pyspark.ml.feature import MinMaxScaler\n",
    "min_Max_Scalar_NumVars = MinMaxScaler(inputCol=\"num_features_all\", outputCol = \"scaled_num_features\")"
   ]
  },
  {
   "cell_type": "code",
   "execution_count": 471,
   "metadata": {},
   "outputs": [],
   "source": [
    "from pyspark.ml.feature import OneHotEncoder, StringIndexer\n",
    "\n",
    "assembler = VectorAssembler(inputCols=[\"scaled_num_features\"], outputCol=\"features\")"
   ]
  },
  {
   "cell_type": "code",
   "execution_count": 472,
   "metadata": {},
   "outputs": [],
   "source": [
    "#Encoding Target variable"
   ]
  },
  {
   "cell_type": "code",
   "execution_count": 473,
   "metadata": {},
   "outputs": [],
   "source": [
    "indexer_Label = StringIndexer(inputCol=\"Target\", outputCol=\"label\")"
   ]
  },
  {
   "cell_type": "code",
   "execution_count": 474,
   "metadata": {},
   "outputs": [],
   "source": [
    "#Preprocessing steps"
   ]
  },
  {
   "cell_type": "code",
   "execution_count": 491,
   "metadata": {},
   "outputs": [],
   "source": [
    "### converting categorical intp numeric\n",
    "from pyspark.ml.feature import OneHotEncoder, StringIndexer\n",
    "\n",
    "indexers_Cat  = [StringIndexer(inputCol=cat_Var_Name, outputCol=\"{0}_index\".format(cat_Var_Name)).setHandleInvalid(\"keep\") \n",
    "                 for cat_Var_Name in cat_Var_Names ] ### constructing list of string indexer\n",
    "\n",
    "encoders_Cat  = [OneHotEncoder(inputCol=indexer.getOutputCol(), \n",
    "                               outputCol=\"{0}_vec\".format(indexer.getInputCol())) \n",
    "                 for indexer in indexers_Cat]  ### doing onehot encoder.\n",
    "\n",
    "assembler_Cat = VectorAssembler(inputCols=[encoder.getOutputCol() \n",
    "                                           for encoder in encoders_Cat], outputCol=\"cat_features\") ### features considering categorical variables\n",
    "\n",
    "assembler     = VectorAssembler(inputCols=[\"scaled_num_features\",\"cat_features\"], outputCol=\"features\")"
   ]
  },
  {
   "cell_type": "code",
   "execution_count": 492,
   "metadata": {},
   "outputs": [],
   "source": [
    "#Preprocessing steps"
   ]
  },
  {
   "cell_type": "code",
   "execution_count": 493,
   "metadata": {},
   "outputs": [],
   "source": [
    "preprocessiong_Stages = [vector_assembler_NumVars] +\\\n",
    "                        [min_Max_Scalar_NumVars] +\\\n",
    "                        indexers_Cat + encoders_Cat +\\\n",
    "                        [assembler_Cat] +\\\n",
    "                        [assembler] "
   ]
  },
  {
   "cell_type": "code",
   "execution_count": 494,
   "metadata": {},
   "outputs": [],
   "source": [
    "#linear regression"
   ]
  },
  {
   "cell_type": "code",
   "execution_count": 495,
   "metadata": {},
   "outputs": [],
   "source": [
    "from pyspark.ml.regression import LinearRegression\n",
    "\n",
    "lr = LinearRegression(maxIter=100,labelCol=\"Rating\",featuresCol=\"features\")"
   ]
  },
  {
   "cell_type": "code",
   "execution_count": 496,
   "metadata": {},
   "outputs": [],
   "source": [
    "from pyspark.ml import Pipeline\n",
    "\n",
    "lr_Pipeline = Pipeline(stages=preprocessiong_Stages+[lr])\n",
    "\n",
    "lr_Pipeline_model = lr_Pipeline.fit(trainingData)"
   ]
  },
  {
   "cell_type": "code",
   "execution_count": 497,
   "metadata": {},
   "outputs": [
    {
     "ename": "NameError",
     "evalue": "name 'training_data' is not defined",
     "output_type": "error",
     "traceback": [
      "\u001b[0;31m---------------------------------------------------------------------------\u001b[0m",
      "\u001b[0;31mNameError\u001b[0m                                 Traceback (most recent call last)",
      "\u001b[0;32m<ipython-input-497-fb8aeac6c2e1>\u001b[0m in \u001b[0;36m<module>\u001b[0;34m()\u001b[0m\n\u001b[0;32m----> 1\u001b[0;31m \u001b[0mtrain_predictions_lr\u001b[0m \u001b[0;34m=\u001b[0m \u001b[0mlr_Pipeline_model\u001b[0m\u001b[0;34m.\u001b[0m\u001b[0mtransform\u001b[0m\u001b[0;34m(\u001b[0m\u001b[0mtraining_data\u001b[0m\u001b[0;34m)\u001b[0m\u001b[0;34m\u001b[0m\u001b[0m\n\u001b[0m\u001b[1;32m      2\u001b[0m \u001b[0mactual_test_predictions_lr\u001b[0m \u001b[0;34m=\u001b[0m \u001b[0mlr_Pipeline_model\u001b[0m\u001b[0;34m.\u001b[0m\u001b[0mtransform\u001b[0m\u001b[0;34m(\u001b[0m\u001b[0mtest_data\u001b[0m\u001b[0;34m)\u001b[0m\u001b[0;34m\u001b[0m\u001b[0m\n",
      "\u001b[0;31mNameError\u001b[0m: name 'training_data' is not defined"
     ]
    }
   ],
   "source": [
    "train_predictions_lr = lr_Pipeline_model.transform(training_data)\n",
    "actual_test_predictions_lr = lr_Pipeline_model.transform(test_data)\n"
   ]
  },
  {
   "cell_type": "code",
   "execution_count": null,
   "metadata": {},
   "outputs": [],
   "source": [
    "# Find the error metric - RMSE\n",
    "from pyspark.ml.evaluation import RegressionEvaluator\n",
    "\n",
    "evaluator = RegressionEvaluator(labelCol=\"Rating\",\n",
    "                            predictionCol=\"prediction\",\n",
    "                            metricName=\"rmse\" )\n"
   ]
  },
  {
   "cell_type": "code",
   "execution_count": null,
   "metadata": {},
   "outputs": [],
   "source": [
    "lmRegTrain_rmse = evaluator.evaluate(train_predictions_lr)\n",
    "print('RMSE value on Train data is', lmRegTrain_rmse)\n",
    "\n",
    "'''lmRegTest_rmse = evaluator.evaluate(test_predictions_lr)\n",
    "print('RMSE value on Test data is', lmRegTest_rmse)'''"
   ]
  },
  {
   "cell_type": "code",
   "execution_count": null,
   "metadata": {},
   "outputs": [],
   "source": [
    "#Decision Tree Regressor"
   ]
  },
  {
   "cell_type": "code",
   "execution_count": null,
   "metadata": {},
   "outputs": [],
   "source": [
    "Decision Tree Regressor"
   ]
  },
  {
   "cell_type": "code",
   "execution_count": 498,
   "metadata": {},
   "outputs": [],
   "source": [
    "from pyspark.ml.regression import DecisionTreeRegressor\n",
    "\n",
    "dt = DecisionTreeRegressor(labelCol=\"Rating\", featuresCol=\"features\")"
   ]
  },
  {
   "cell_type": "code",
   "execution_count": 499,
   "metadata": {},
   "outputs": [],
   "source": [
    "dt_Pipeline = Pipeline(stages=preprocessiong_Stages+[dt]) \n",
    "\n",
    "dt_Pipeline_model = dt_Pipeline.fit(trainingData)"
   ]
  },
  {
   "cell_type": "code",
   "execution_count": 500,
   "metadata": {},
   "outputs": [],
   "source": [
    "train_predictions_dt = dt_Pipeline_model.transform(trainingData)\n",
    "test_predictions_dt = dt_Pipeline_model.transform(testData)"
   ]
  },
  {
   "cell_type": "code",
   "execution_count": 501,
   "metadata": {},
   "outputs": [],
   "source": [
    "# Find the error metric - RMSE\n",
    "from pyspark.ml.evaluation import RegressionEvaluator\n",
    "\n",
    "evaluator = RegressionEvaluator(labelCol=\"Rating\",\n",
    "                            predictionCol=\"prediction\",\n",
    "                            metricName=\"rmse\" )\n"
   ]
  },
  {
   "cell_type": "code",
   "execution_count": 502,
   "metadata": {},
   "outputs": [
    {
     "name": "stdout",
     "output_type": "stream",
     "text": [
      "('RMSE value on Train data is', 0.4803046581524253)\n",
      "('RMSE value on Test data is', 0.48964650325527187)\n"
     ]
    }
   ],
   "source": [
    "dtTrain_rmse = evaluator.evaluate(train_predictions_dt)\n",
    "print('RMSE value on Train data is', dtTrain_rmse)\n",
    "\n",
    "dtTest_rmse = evaluator.evaluate(test_predictions_dt)\n",
    "print('RMSE value on Test data is', dtTest_rmse)"
   ]
  },
  {
   "cell_type": "code",
   "execution_count": 503,
   "metadata": {},
   "outputs": [],
   "source": [
    "from pyspark.ml.tuning import ParamGridBuilder, CrossValidator\n",
    "paramGridDT = ParamGridBuilder()\\\n",
    "    .addGrid(dt.maxDepth, [1,6,10]) \\\n",
    "    .build()\n",
    "    \n",
    "dt_crossval = CrossValidator(estimator=dt_Pipeline,\n",
    "                             estimatorParamMaps=paramGridDT,\n",
    "                             evaluator=RegressionEvaluator(labelCol=\"Rating\"),\n",
    "                             numFolds=2) "
   ]
  },
  {
   "cell_type": "code",
   "execution_count": 504,
   "metadata": {},
   "outputs": [],
   "source": [
    "# Run cross-validation, and choose the best set of parameters.\n",
    "dt_crossval_Model = dt_crossval.fit(trainingData)"
   ]
  },
  {
   "cell_type": "code",
   "execution_count": 505,
   "metadata": {},
   "outputs": [],
   "source": [
    "train_predictions_dtcv = dt_crossval_Model.transform(trainingData)\n",
    "test_predictions_dtcv = dt_crossval_Model.transform(testData)"
   ]
  },
  {
   "cell_type": "code",
   "execution_count": 506,
   "metadata": {},
   "outputs": [
    {
     "name": "stdout",
     "output_type": "stream",
     "text": [
      "('RMSE value on Train data is', 0.4727165869890867)\n",
      "('RMSE value on Test data is', 0.4895515520119714)\n"
     ]
    }
   ],
   "source": [
    "dtTrain_rmsecv = evaluator.evaluate(train_predictions_dtcv)\n",
    "print('RMSE value on Train data is', dtTrain_rmsecv)\n",
    "\n",
    "dtTest_rmsecv = evaluator.evaluate(test_predictions_dtcv)\n",
    "print('RMSE value on Test data is', dtTest_rmsecv)"
   ]
  },
  {
   "cell_type": "code",
   "execution_count": 507,
   "metadata": {},
   "outputs": [],
   "source": [
    "#RANDOM-FOREST"
   ]
  },
  {
   "cell_type": "code",
   "execution_count": 508,
   "metadata": {},
   "outputs": [],
   "source": [
    "from pyspark.ml.regression import RandomForestRegressor\n",
    "\n",
    "rf = RandomForestRegressor(labelCol=\"Rating\", featuresCol=\"features\")"
   ]
  },
  {
   "cell_type": "code",
   "execution_count": 509,
   "metadata": {},
   "outputs": [],
   "source": [
    "rf_Pipeline = Pipeline(stages=preprocessiong_Stages+[rf]) \n",
    "\n",
    "rf_Pipeline_model = rf_Pipeline.fit(trainingData)"
   ]
  },
  {
   "cell_type": "code",
   "execution_count": 510,
   "metadata": {},
   "outputs": [],
   "source": [
    "train_predictions_rf = rf_Pipeline_model.transform(trainingData)\n",
    "test_predictions_rf = rf_Pipeline_model.transform(testData)"
   ]
  },
  {
   "cell_type": "code",
   "execution_count": 511,
   "metadata": {},
   "outputs": [
    {
     "name": "stdout",
     "output_type": "stream",
     "text": [
      "('RMSE value on Train data is', 0.4805342390505242)\n",
      "('RMSE value on Test data is', 0.48567026466500374)\n"
     ]
    }
   ],
   "source": [
    "rfTrain_rmse = evaluator.evaluate(train_predictions_rf)\n",
    "print('RMSE value on Train data is', rfTrain_rmse)\n",
    "\n",
    "rfTest_rmse = evaluator.evaluate(test_predictions_rf)\n",
    "print('RMSE value on Test data is', rfTest_rmse)"
   ]
  },
  {
   "cell_type": "code",
   "execution_count": null,
   "metadata": {},
   "outputs": [],
   "source": []
  },
  {
   "cell_type": "code",
   "execution_count": null,
   "metadata": {},
   "outputs": [],
   "source": []
  }
 ],
 "metadata": {
  "kernelspec": {
   "display_name": "Python 2",
   "language": "python",
   "name": "python2"
  },
  "language_info": {
   "codemirror_mode": {
    "name": "ipython",
    "version": 2
   },
   "file_extension": ".py",
   "mimetype": "text/x-python",
   "name": "python",
   "nbconvert_exporter": "python",
   "pygments_lexer": "ipython2",
   "version": "2.7.5"
  }
 },
 "nbformat": 4,
 "nbformat_minor": 2
}
